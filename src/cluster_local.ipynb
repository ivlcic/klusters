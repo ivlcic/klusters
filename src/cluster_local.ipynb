{
 "cells": [
  {
   "metadata": {},
   "cell_type": "markdown",
   "source": [
    "# Lokalna Vektorizacija\n",
    "Vektorje za reprezentacijo članka (embedding) računam lokalno.\n",
    "Če nimaš grafične kartice traja 100 let."
   ],
   "id": "f799304514209d8a"
  },
  {
   "metadata": {},
   "cell_type": "code",
   "source": "!pip install pandas transformers numpy torch networkx numpy scikit-learn",
   "id": "dced5fdb4cf1ace9",
   "outputs": [],
   "execution_count": null
  },
  {
   "metadata": {},
   "cell_type": "code",
   "source": [
    "import os\n",
    "import pandas as pd\n",
    "\n",
    "data = pd.read_excel(os.path.join('..', 'data', 'Reworkan data 4.xlsx'))\n",
    "data.head()"
   ],
   "id": "912cef934ed4f337",
   "outputs": [],
   "execution_count": null
  },
  {
   "metadata": {},
   "cell_type": "markdown",
   "source": "Funkcije za vektorizacijo multilingual-e5-base nevronski model (lokalno računanje)",
   "id": "b4af254a9d72b6c"
  },
  {
   "metadata": {},
   "cell_type": "code",
   "source": [
    "import torch\n",
    "import torch.nn.functional as functional\n",
    "\n",
    "from torch import Tensor\n",
    "from transformers import AutoTokenizer, AutoModel\n",
    "\n",
    "device = torch.device('cuda' if torch.cuda.is_available() else 'cpu')\n",
    "\n",
    "def e5embed(df: pd.DataFrame, col_name: str, target_col_name: str = 'Embedding'):\n",
    "    def _average_pool(last_hidden_states: Tensor, attention_mask: Tensor) -> Tensor:\n",
    "        last_hidden = last_hidden_states.masked_fill(~attention_mask[..., None].bool(), 0.0)\n",
    "        return last_hidden.sum(dim=1) / attention_mask.sum(dim=1)[..., None]\n",
    "    \n",
    "    def _e5_embed(text, _tokenizer, _model, max_len):\n",
    "        if isinstance(text, float):\n",
    "            text = str(text)\n",
    "        batch_dict = _tokenizer(\n",
    "            ['passage: ' + text], max_length=max_len,\n",
    "            padding=True, truncation=True, return_tensors='pt'\n",
    "        )\n",
    "        batch_dict.to(device)\n",
    "        outputs = _model(**batch_dict)\n",
    "        embeddings = _average_pool(outputs.last_hidden_state, batch_dict['attention_mask'])\n",
    "        embeddings = functional.normalize(embeddings, p=2, dim=1)\n",
    "        return embeddings.detach().cpu().numpy()[0]\n",
    "    \n",
    "    model_name = \"intfloat/multilingual-e5-base\"\n",
    "    tokenizer = AutoTokenizer.from_pretrained(model_name)\n",
    "    model = AutoModel.from_pretrained(model_name, trust_remote_code=True)\n",
    "    model.to(device)\n",
    "    print(\"Loaded model, will compute embeddings ...\")\n",
    "    df[target_col_name] = df[col_name].apply(_e5_embed, model=model, tokenizer=tokenizer, max_len=512)\n",
    "    print(\"Computed embeddings\")\n",
    "    return df"
   ],
   "id": "3bd2621f2d5b856a",
   "outputs": [],
   "execution_count": null
  },
  {
   "metadata": {},
   "cell_type": "markdown",
   "source": "Kličem vektorizacijo na stolpcu 'Text' in dobim stolpec z vektorjem 'Embedding'",
   "id": "6248742bae82169c"
  },
  {
   "metadata": {},
   "cell_type": "code",
   "source": [
    "data = e5embed(data, 'Tekst', 'Embedding')\n",
    "data[['Article ID', 'Datum', 'Medij', 'Tekst', 'Embedding']].head(100)"
   ],
   "id": "6bb737632c935461",
   "outputs": [],
   "execution_count": null
  },
  {
   "metadata": {},
   "cell_type": "markdown",
   "source": "Definiram funkcijo za clustering",
   "id": "ecb2862d92147ceb"
  },
  {
   "metadata": {},
   "cell_type": "code",
   "source": [
    "import networkx as nx\n",
    "import numpy as np\n",
    "\n",
    "from sklearn.metrics.pairwise import cosine_similarity\n",
    "\n",
    "def cluster_louvain(df: pd.DataFrame, col_name: str = 'Embedding', similarity_threshold: float = 0.96):\n",
    "    print(\"Clustering ...\")\n",
    "    embeddings = np.array(df[col_name].to_list())\n",
    "    labels = [0] * len(embeddings)\n",
    "    x = cosine_similarity(embeddings, embeddings)\n",
    "    similarity_matrix = x > similarity_threshold\n",
    "    graph = nx.from_numpy_array(similarity_matrix)\n",
    "    communities = nx.algorithms.community.louvain_communities(graph, resolution=0.1)\n",
    "    for community in communities:\n",
    "        initial_member = min(community)\n",
    "        for member in community:\n",
    "            labels[member] = initial_member\n",
    "\n",
    "    df['Cluster'] = pd.Series(labels)\n",
    "    print(\"Clustered\")\n",
    "    return df"
   ],
   "id": "86a82675523549d",
   "outputs": [],
   "execution_count": null
  },
  {
   "metadata": {},
   "cell_type": "markdown",
   "source": "Izračunam cluster",
   "id": "f16e4f6b1de849d7"
  },
  {
   "metadata": {
    "jupyter": {
     "is_executing": true
    }
   },
   "cell_type": "code",
   "source": [
    "data = cluster_louvain(data, 'Embedding', 0.92)  # <- similarity_threshold\n",
    "data = data.drop(columns=['Embedding'])  # remove the vectors from data - we don't need them anymore\n",
    "data[['Article ID', 'Datum', 'Medij', 'Cluster', 'Tekst']].head(100)"
   ],
   "id": "83ee33babd020ac3",
   "outputs": [],
   "execution_count": null
  }
 ],
 "metadata": {
  "kernelspec": {
   "display_name": "Python 3",
   "language": "python",
   "name": "python3"
  },
  "language_info": {
   "codemirror_mode": {
    "name": "ipython",
    "version": 2
   },
   "file_extension": ".py",
   "mimetype": "text/x-python",
   "name": "python",
   "nbconvert_exporter": "python",
   "pygments_lexer": "ipython2",
   "version": "2.7.6"
  }
 },
 "nbformat": 4,
 "nbformat_minor": 5
}

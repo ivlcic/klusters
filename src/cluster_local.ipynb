{
 "cells": [
  {
   "cell_type": "markdown",
   "id": "f799304514209d8a",
   "metadata": {},
   "source": [
    "# Lokalna Vektorizacija\n",
    "Vektorje za reprezentacijo članka (embedding) računam lokalno.\n",
    "Če nimaš grafične kartice traja 100 let."
   ]
  },
  {
   "cell_type": "code",
   "id": "dced5fdb4cf1ace9",
   "metadata": {
    "ExecuteTime": {
     "end_time": "2024-06-13T11:36:40.327774Z",
     "start_time": "2024-06-13T11:36:38.567024Z"
    }
   },
   "source": [
    "!pip install pandas transformers numpy torch networkx numpy scikit-learn"
   ],
   "outputs": [
    {
     "name": "stdout",
     "output_type": "stream",
     "text": [
      "Requirement already satisfied: pandas in c:\\users\\sebastjan\\pycharmprojects\\klusters\\venv\\lib\\site-packages (2.2.2)\n",
      "Requirement already satisfied: transformers in c:\\users\\sebastjan\\pycharmprojects\\klusters\\venv\\lib\\site-packages (4.41.2)\n",
      "Requirement already satisfied: numpy in c:\\users\\sebastjan\\pycharmprojects\\klusters\\venv\\lib\\site-packages (1.26.4)\n",
      "Requirement already satisfied: torch in c:\\users\\sebastjan\\pycharmprojects\\klusters\\venv\\lib\\site-packages (2.3.1+cu121)\n",
      "Requirement already satisfied: networkx in c:\\users\\sebastjan\\pycharmprojects\\klusters\\venv\\lib\\site-packages (3.3)\n",
      "Requirement already satisfied: scikit-learn in c:\\users\\sebastjan\\pycharmprojects\\klusters\\venv\\lib\\site-packages (1.5.0)\n",
      "Requirement already satisfied: python-dateutil>=2.8.2 in c:\\users\\sebastjan\\pycharmprojects\\klusters\\venv\\lib\\site-packages (from pandas) (2.9.0.post0)\n",
      "Requirement already satisfied: pytz>=2020.1 in c:\\users\\sebastjan\\pycharmprojects\\klusters\\venv\\lib\\site-packages (from pandas) (2024.1)\n",
      "Requirement already satisfied: tzdata>=2022.7 in c:\\users\\sebastjan\\pycharmprojects\\klusters\\venv\\lib\\site-packages (from pandas) (2024.1)\n",
      "Requirement already satisfied: filelock in c:\\users\\sebastjan\\pycharmprojects\\klusters\\venv\\lib\\site-packages (from transformers) (3.15.1)\n",
      "Requirement already satisfied: huggingface-hub<1.0,>=0.23.0 in c:\\users\\sebastjan\\pycharmprojects\\klusters\\venv\\lib\\site-packages (from transformers) (0.23.3)\n",
      "Requirement already satisfied: packaging>=20.0 in c:\\users\\sebastjan\\pycharmprojects\\klusters\\venv\\lib\\site-packages (from transformers) (24.1)\n",
      "Requirement already satisfied: pyyaml>=5.1 in c:\\users\\sebastjan\\pycharmprojects\\klusters\\venv\\lib\\site-packages (from transformers) (6.0.1)\n",
      "Requirement already satisfied: regex!=2019.12.17 in c:\\users\\sebastjan\\pycharmprojects\\klusters\\venv\\lib\\site-packages (from transformers) (2024.5.15)\n",
      "Requirement already satisfied: requests in c:\\users\\sebastjan\\pycharmprojects\\klusters\\venv\\lib\\site-packages (from transformers) (2.32.3)\n",
      "Requirement already satisfied: tokenizers<0.20,>=0.19 in c:\\users\\sebastjan\\pycharmprojects\\klusters\\venv\\lib\\site-packages (from transformers) (0.19.1)\n",
      "Requirement already satisfied: safetensors>=0.4.1 in c:\\users\\sebastjan\\pycharmprojects\\klusters\\venv\\lib\\site-packages (from transformers) (0.4.3)\n",
      "Requirement already satisfied: tqdm>=4.27 in c:\\users\\sebastjan\\pycharmprojects\\klusters\\venv\\lib\\site-packages (from transformers) (4.66.4)\n",
      "Requirement already satisfied: typing-extensions>=4.8.0 in c:\\users\\sebastjan\\pycharmprojects\\klusters\\venv\\lib\\site-packages (from torch) (4.12.2)\n",
      "Requirement already satisfied: sympy in c:\\users\\sebastjan\\pycharmprojects\\klusters\\venv\\lib\\site-packages (from torch) (1.12.1)\n",
      "Requirement already satisfied: jinja2 in c:\\users\\sebastjan\\pycharmprojects\\klusters\\venv\\lib\\site-packages (from torch) (3.1.4)\n",
      "Requirement already satisfied: fsspec in c:\\users\\sebastjan\\pycharmprojects\\klusters\\venv\\lib\\site-packages (from torch) (2024.6.0)\n",
      "Requirement already satisfied: mkl<=2021.4.0,>=2021.1.1 in c:\\users\\sebastjan\\pycharmprojects\\klusters\\venv\\lib\\site-packages (from torch) (2021.4.0)\n",
      "Requirement already satisfied: scipy>=1.6.0 in c:\\users\\sebastjan\\pycharmprojects\\klusters\\venv\\lib\\site-packages (from scikit-learn) (1.13.1)\n",
      "Requirement already satisfied: joblib>=1.2.0 in c:\\users\\sebastjan\\pycharmprojects\\klusters\\venv\\lib\\site-packages (from scikit-learn) (1.4.2)\n",
      "Requirement already satisfied: threadpoolctl>=3.1.0 in c:\\users\\sebastjan\\pycharmprojects\\klusters\\venv\\lib\\site-packages (from scikit-learn) (3.5.0)\n",
      "Requirement already satisfied: intel-openmp==2021.* in c:\\users\\sebastjan\\pycharmprojects\\klusters\\venv\\lib\\site-packages (from mkl<=2021.4.0,>=2021.1.1->torch) (2021.4.0)\n",
      "Requirement already satisfied: tbb==2021.* in c:\\users\\sebastjan\\pycharmprojects\\klusters\\venv\\lib\\site-packages (from mkl<=2021.4.0,>=2021.1.1->torch) (2021.12.0)\n",
      "Requirement already satisfied: six>=1.5 in c:\\users\\sebastjan\\pycharmprojects\\klusters\\venv\\lib\\site-packages (from python-dateutil>=2.8.2->pandas) (1.16.0)\n",
      "Requirement already satisfied: colorama in c:\\users\\sebastjan\\pycharmprojects\\klusters\\venv\\lib\\site-packages (from tqdm>=4.27->transformers) (0.4.6)\n",
      "Requirement already satisfied: MarkupSafe>=2.0 in c:\\users\\sebastjan\\pycharmprojects\\klusters\\venv\\lib\\site-packages (from jinja2->torch) (2.1.5)\n",
      "Requirement already satisfied: charset-normalizer<4,>=2 in c:\\users\\sebastjan\\pycharmprojects\\klusters\\venv\\lib\\site-packages (from requests->transformers) (3.3.2)\n",
      "Requirement already satisfied: idna<4,>=2.5 in c:\\users\\sebastjan\\pycharmprojects\\klusters\\venv\\lib\\site-packages (from requests->transformers) (3.7)\n",
      "Requirement already satisfied: urllib3<3,>=1.21.1 in c:\\users\\sebastjan\\pycharmprojects\\klusters\\venv\\lib\\site-packages (from requests->transformers) (2.2.1)\n",
      "Requirement already satisfied: certifi>=2017.4.17 in c:\\users\\sebastjan\\pycharmprojects\\klusters\\venv\\lib\\site-packages (from requests->transformers) (2024.6.2)\n",
      "Requirement already satisfied: mpmath<1.4.0,>=1.1.0 in c:\\users\\sebastjan\\pycharmprojects\\klusters\\venv\\lib\\site-packages (from sympy->torch) (1.3.0)\n"
     ]
    }
   ],
   "execution_count": 1
  },
  {
   "cell_type": "code",
   "id": "912cef934ed4f337",
   "metadata": {
    "ExecuteTime": {
     "end_time": "2024-06-13T11:36:42.242215Z",
     "start_time": "2024-06-13T11:36:40.328283Z"
    }
   },
   "source": [
    "import os\n",
    "import pandas as pd\n",
    "\n",
    "data = pd.read_excel(os.path.join('..', 'data', 'Reworkan data 4.xlsx'))\n",
    "data.head()"
   ],
   "outputs": [
    {
     "data": {
      "text/plain": [
       "                             Article ID               Datum        Dan  Teden  \\\n",
       "0  001c7622-d40a-11ed-9d48-dfb487f9037c 2023-04-06 00:00:00  Thursday      14   \n",
       "1  00732997-d53a-11ed-9d48-dfb487f9037c 2023-04-07 13:45:00  Friday        14   \n",
       "2  01443cab-dbc6-11ed-9246-2b5ebef623ad 2023-04-15 21:42:00  Saturday      15   \n",
       "3  01e591ff-d2b1-11ed-83eb-0bd28cf4c8f0 2023-04-04 00:00:00  Tuesday       14   \n",
       "4  03e9491b-dd47-11ed-9246-2b5ebef623ad 2023-04-17 19:37:00  Monday        16   \n",
       "\n",
       "          Article created Tip medija Podtip medija  \\\n",
       "0 2023-04-06 01:31:33.498       tisk          tisk   \n",
       "1 2023-04-07 13:47:41.072   internet         splet   \n",
       "2 2023-04-15 21:44:58.961   internet         splet   \n",
       "3 2023-04-04 08:22:00.122       tisk          tisk   \n",
       "4 2023-04-17 19:40:59.639   internet         splet   \n",
       "\n",
       "                             Media uuid        Medij  \\\n",
       "0  2fd717ed-78ba-4f63-b257-cd096acb6bda         Delo   \n",
       "1  754da261-9aee-4a1a-b9d8-734cd409fabf  Zurnal24.si   \n",
       "2  bc20546f-3a11-4061-90c2-2769468cd542      Delo.si   \n",
       "3  a67b08ee-a757-40ff-8d7e-ab8fc8246eec         Jana   \n",
       "4  754da261-9aee-4a1a-b9d8-734cd409fabf  Zurnal24.si   \n",
       "\n",
       "                            Rubric uuid  ... Pregled objav - citiranost virov  \\\n",
       "0  bc228842-98cc-48ea-8be9-0107becb707a  ...    Objava z obema tipoma citatov   \n",
       "1  e059ba7d-1a91-48f6-ac1c-d7ed703375ba  ...    Objava z obema tipoma citatov   \n",
       "2  f57a09ac-450d-4df4-bc2b-a2c7f96a4322  ...    Objava z obema tipoma citatov   \n",
       "3  4dd54f38-07e1-448f-b96d-dad85e669834  ...    Objava z obema tipoma citatov   \n",
       "4  e059ba7d-1a91-48f6-ac1c-d7ed703375ba  ...    Objava z obema tipoma citatov   \n",
       "\n",
       "  Razredi Indeksa medijske podobe       Doseg  Naklonjenost teme  \\\n",
       "0         3. razred (0 - 34 točk)     odličen          Nevtralna   \n",
       "1      2. razred (34,5 - 59 točk)     odličen          Nevtralna   \n",
       "2         3. razred (0 - 34 točk)       nizek          Nevtralna   \n",
       "3         3. razred (0 - 34 točk)  zelo dober          Nevtralna   \n",
       "4         3. razred (0 - 34 točk)       nizek          Nevtralna   \n",
       "\n",
       "   Osrednja tema Ključna sporočila          Fotografija   Omemba v naslovu  \\\n",
       "0            NaN               NaN  Vsebuje fotografijo  Omenjeno podjetje   \n",
       "1            NaN               NaN  Vsebuje fotografijo  Omenjeno podjetje   \n",
       "2            NaN               NaN  Vsebuje fotografijo  Omenjeno podjetje   \n",
       "3            NaN               NaN  Vsebuje fotografijo  Omenjeno podjetje   \n",
       "4            NaN               NaN  Vsebuje fotografijo  Omenjeno podjetje   \n",
       "\n",
       "  Omemba v podnaslovu                                              Tekst  \n",
       "0   Omenjeno podjetje  V spomin Prof. dr. Marija Pečan, dr. med. (193...  \n",
       "1   Omenjeno podjetje  Člani Strateškega sveta za prehrano, ki je med...  \n",
       "2   Omenjeno podjetje  Člani komisije se niso opredeljevali do znakov...  \n",
       "3   Omenjeno podjetje  žJanimn jdrawiljfta Unija f 0  , Težave s ščit...  \n",
       "4   Omenjeno podjetje  \"Tudi vsi v zdravstvenem sistemu bodo dobili s...  \n",
       "\n",
       "[5 rows x 80 columns]"
      ],
      "text/html": [
       "<div>\n",
       "<style scoped>\n",
       "    .dataframe tbody tr th:only-of-type {\n",
       "        vertical-align: middle;\n",
       "    }\n",
       "\n",
       "    .dataframe tbody tr th {\n",
       "        vertical-align: top;\n",
       "    }\n",
       "\n",
       "    .dataframe thead th {\n",
       "        text-align: right;\n",
       "    }\n",
       "</style>\n",
       "<table border=\"1\" class=\"dataframe\">\n",
       "  <thead>\n",
       "    <tr style=\"text-align: right;\">\n",
       "      <th></th>\n",
       "      <th>Article ID</th>\n",
       "      <th>Datum</th>\n",
       "      <th>Dan</th>\n",
       "      <th>Teden</th>\n",
       "      <th>Article created</th>\n",
       "      <th>Tip medija</th>\n",
       "      <th>Podtip medija</th>\n",
       "      <th>Media uuid</th>\n",
       "      <th>Medij</th>\n",
       "      <th>Rubric uuid</th>\n",
       "      <th>...</th>\n",
       "      <th>Pregled objav - citiranost virov</th>\n",
       "      <th>Razredi Indeksa medijske podobe</th>\n",
       "      <th>Doseg</th>\n",
       "      <th>Naklonjenost teme</th>\n",
       "      <th>Osrednja tema</th>\n",
       "      <th>Ključna sporočila</th>\n",
       "      <th>Fotografija</th>\n",
       "      <th>Omemba v naslovu</th>\n",
       "      <th>Omemba v podnaslovu</th>\n",
       "      <th>Tekst</th>\n",
       "    </tr>\n",
       "  </thead>\n",
       "  <tbody>\n",
       "    <tr>\n",
       "      <th>0</th>\n",
       "      <td>001c7622-d40a-11ed-9d48-dfb487f9037c</td>\n",
       "      <td>2023-04-06 00:00:00</td>\n",
       "      <td>Thursday</td>\n",
       "      <td>14</td>\n",
       "      <td>2023-04-06 01:31:33.498</td>\n",
       "      <td>tisk</td>\n",
       "      <td>tisk</td>\n",
       "      <td>2fd717ed-78ba-4f63-b257-cd096acb6bda</td>\n",
       "      <td>Delo</td>\n",
       "      <td>bc228842-98cc-48ea-8be9-0107becb707a</td>\n",
       "      <td>...</td>\n",
       "      <td>Objava z obema tipoma citatov</td>\n",
       "      <td>3. razred (0 - 34 točk)</td>\n",
       "      <td>odličen</td>\n",
       "      <td>Nevtralna</td>\n",
       "      <td>NaN</td>\n",
       "      <td>NaN</td>\n",
       "      <td>Vsebuje fotografijo</td>\n",
       "      <td>Omenjeno podjetje</td>\n",
       "      <td>Omenjeno podjetje</td>\n",
       "      <td>V spomin Prof. dr. Marija Pečan, dr. med. (193...</td>\n",
       "    </tr>\n",
       "    <tr>\n",
       "      <th>1</th>\n",
       "      <td>00732997-d53a-11ed-9d48-dfb487f9037c</td>\n",
       "      <td>2023-04-07 13:45:00</td>\n",
       "      <td>Friday</td>\n",
       "      <td>14</td>\n",
       "      <td>2023-04-07 13:47:41.072</td>\n",
       "      <td>internet</td>\n",
       "      <td>splet</td>\n",
       "      <td>754da261-9aee-4a1a-b9d8-734cd409fabf</td>\n",
       "      <td>Zurnal24.si</td>\n",
       "      <td>e059ba7d-1a91-48f6-ac1c-d7ed703375ba</td>\n",
       "      <td>...</td>\n",
       "      <td>Objava z obema tipoma citatov</td>\n",
       "      <td>2. razred (34,5 - 59 točk)</td>\n",
       "      <td>odličen</td>\n",
       "      <td>Nevtralna</td>\n",
       "      <td>NaN</td>\n",
       "      <td>NaN</td>\n",
       "      <td>Vsebuje fotografijo</td>\n",
       "      <td>Omenjeno podjetje</td>\n",
       "      <td>Omenjeno podjetje</td>\n",
       "      <td>Člani Strateškega sveta za prehrano, ki je med...</td>\n",
       "    </tr>\n",
       "    <tr>\n",
       "      <th>2</th>\n",
       "      <td>01443cab-dbc6-11ed-9246-2b5ebef623ad</td>\n",
       "      <td>2023-04-15 21:42:00</td>\n",
       "      <td>Saturday</td>\n",
       "      <td>15</td>\n",
       "      <td>2023-04-15 21:44:58.961</td>\n",
       "      <td>internet</td>\n",
       "      <td>splet</td>\n",
       "      <td>bc20546f-3a11-4061-90c2-2769468cd542</td>\n",
       "      <td>Delo.si</td>\n",
       "      <td>f57a09ac-450d-4df4-bc2b-a2c7f96a4322</td>\n",
       "      <td>...</td>\n",
       "      <td>Objava z obema tipoma citatov</td>\n",
       "      <td>3. razred (0 - 34 točk)</td>\n",
       "      <td>nizek</td>\n",
       "      <td>Nevtralna</td>\n",
       "      <td>NaN</td>\n",
       "      <td>NaN</td>\n",
       "      <td>Vsebuje fotografijo</td>\n",
       "      <td>Omenjeno podjetje</td>\n",
       "      <td>Omenjeno podjetje</td>\n",
       "      <td>Člani komisije se niso opredeljevali do znakov...</td>\n",
       "    </tr>\n",
       "    <tr>\n",
       "      <th>3</th>\n",
       "      <td>01e591ff-d2b1-11ed-83eb-0bd28cf4c8f0</td>\n",
       "      <td>2023-04-04 00:00:00</td>\n",
       "      <td>Tuesday</td>\n",
       "      <td>14</td>\n",
       "      <td>2023-04-04 08:22:00.122</td>\n",
       "      <td>tisk</td>\n",
       "      <td>tisk</td>\n",
       "      <td>a67b08ee-a757-40ff-8d7e-ab8fc8246eec</td>\n",
       "      <td>Jana</td>\n",
       "      <td>4dd54f38-07e1-448f-b96d-dad85e669834</td>\n",
       "      <td>...</td>\n",
       "      <td>Objava z obema tipoma citatov</td>\n",
       "      <td>3. razred (0 - 34 točk)</td>\n",
       "      <td>zelo dober</td>\n",
       "      <td>Nevtralna</td>\n",
       "      <td>NaN</td>\n",
       "      <td>NaN</td>\n",
       "      <td>Vsebuje fotografijo</td>\n",
       "      <td>Omenjeno podjetje</td>\n",
       "      <td>Omenjeno podjetje</td>\n",
       "      <td>žJanimn jdrawiljfta Unija f 0  , Težave s ščit...</td>\n",
       "    </tr>\n",
       "    <tr>\n",
       "      <th>4</th>\n",
       "      <td>03e9491b-dd47-11ed-9246-2b5ebef623ad</td>\n",
       "      <td>2023-04-17 19:37:00</td>\n",
       "      <td>Monday</td>\n",
       "      <td>16</td>\n",
       "      <td>2023-04-17 19:40:59.639</td>\n",
       "      <td>internet</td>\n",
       "      <td>splet</td>\n",
       "      <td>754da261-9aee-4a1a-b9d8-734cd409fabf</td>\n",
       "      <td>Zurnal24.si</td>\n",
       "      <td>e059ba7d-1a91-48f6-ac1c-d7ed703375ba</td>\n",
       "      <td>...</td>\n",
       "      <td>Objava z obema tipoma citatov</td>\n",
       "      <td>3. razred (0 - 34 točk)</td>\n",
       "      <td>nizek</td>\n",
       "      <td>Nevtralna</td>\n",
       "      <td>NaN</td>\n",
       "      <td>NaN</td>\n",
       "      <td>Vsebuje fotografijo</td>\n",
       "      <td>Omenjeno podjetje</td>\n",
       "      <td>Omenjeno podjetje</td>\n",
       "      <td>\"Tudi vsi v zdravstvenem sistemu bodo dobili s...</td>\n",
       "    </tr>\n",
       "  </tbody>\n",
       "</table>\n",
       "<p>5 rows × 80 columns</p>\n",
       "</div>"
      ]
     },
     "execution_count": 2,
     "metadata": {},
     "output_type": "execute_result"
    }
   ],
   "execution_count": 2
  },
  {
   "metadata": {
    "ExecuteTime": {
     "end_time": "2024-06-13T11:36:43.639777Z",
     "start_time": "2024-06-13T11:36:42.242215Z"
    }
   },
   "cell_type": "code",
   "source": [
    "import torch\n",
    "print(f'Cuda is: {torch.cuda.is_available()}')"
   ],
   "id": "b1fe350036c84f4d",
   "outputs": [
    {
     "name": "stdout",
     "output_type": "stream",
     "text": [
      "Cuda is: True\n"
     ]
    }
   ],
   "execution_count": 3
  },
  {
   "cell_type": "markdown",
   "id": "b4af254a9d72b6c",
   "metadata": {},
   "source": [
    "Funkcije za vektorizacijo multilingual-e5-base nevronski model (lokalno računanje)"
   ]
  },
  {
   "cell_type": "code",
   "id": "3bd2621f2d5b856a",
   "metadata": {
    "ExecuteTime": {
     "end_time": "2024-06-13T11:36:44.709088Z",
     "start_time": "2024-06-13T11:36:43.640780Z"
    }
   },
   "source": [
    "import torch\n",
    "import torch.nn.functional as functional\n",
    "\n",
    "from torch import Tensor\n",
    "from transformers import AutoTokenizer, AutoModel\n",
    "\n",
    "device = torch.device('cuda' if torch.cuda.is_available() else 'cpu')\n",
    "\n",
    "def e5embed(df: pd.DataFrame, col_name: str, target_col_name: str = 'Embedding'):\n",
    "    def _average_pool(last_hidden_states: Tensor, attention_mask: Tensor) -> Tensor:\n",
    "        last_hidden = last_hidden_states.masked_fill(~attention_mask[..., None].bool(), 0.0)\n",
    "        return last_hidden.sum(dim=1) / attention_mask.sum(dim=1)[..., None]\n",
    "    \n",
    "    def _e5_embed(text, _tokenizer, _model, max_len):\n",
    "        if isinstance(text, float):\n",
    "            text = str(text)\n",
    "        batch_dict = _tokenizer(\n",
    "            ['passage: ' + text], max_length=max_len,\n",
    "            padding=True, truncation=True, return_tensors='pt'\n",
    "        )\n",
    "        batch_dict.to(device)\n",
    "        outputs = _model(**batch_dict)\n",
    "        embeddings = _average_pool(outputs.last_hidden_state, batch_dict['attention_mask'])\n",
    "        embeddings = functional.normalize(embeddings, p=2, dim=1)\n",
    "        return embeddings.detach().cpu().numpy()[0]\n",
    "    \n",
    "    model_name = \"intfloat/multilingual-e5-base\"\n",
    "    tokenizer = AutoTokenizer.from_pretrained(model_name)\n",
    "    model = AutoModel.from_pretrained(model_name, trust_remote_code=True)\n",
    "    model.to(device)\n",
    "    print(\"Loaded model, will compute embeddings ...\")\n",
    "    df[target_col_name] = df[col_name].apply(_e5_embed, _model=model, _tokenizer=tokenizer, max_len=512)\n",
    "    print(\"Computed embeddings\")\n",
    "    return df"
   ],
   "outputs": [],
   "execution_count": 4
  },
  {
   "cell_type": "markdown",
   "id": "6248742bae82169c",
   "metadata": {},
   "source": [
    "Kličem vektorizacijo na stolpcu 'Text' in dobim stolpec z vektorjem 'Embedding'"
   ]
  },
  {
   "cell_type": "code",
   "id": "6bb737632c935461",
   "metadata": {
    "jupyter": {
     "is_executing": true
    },
    "ExecuteTime": {
     "start_time": "2024-06-13T11:36:44.709088Z"
    }
   },
   "source": [
    "data = e5embed(data, 'Tekst', 'Embedding')\n",
    "data[['Article ID', 'Datum', 'Medij', 'Tekst', 'Embedding']].head(100)"
   ],
   "outputs": [
    {
     "name": "stdout",
     "output_type": "stream",
     "text": [
      "Loaded model, will compute embeddings ...\n"
     ]
    }
   ],
   "execution_count": null
  },
  {
   "cell_type": "markdown",
   "id": "ecb2862d92147ceb",
   "metadata": {},
   "source": [
    "Definiram funkcijo za clustering"
   ]
  },
  {
   "cell_type": "code",
   "id": "86a82675523549d",
   "metadata": {
    "jupyter": {
     "is_executing": true
    }
   },
   "source": [
    "import networkx as nx\n",
    "import numpy as np\n",
    "\n",
    "from sklearn.metrics.pairwise import cosine_similarity\n",
    "\n",
    "def cluster_louvain(df: pd.DataFrame, col_name: str = 'Embedding', similarity_threshold: float = 0.96):\n",
    "    print(\"Clustering ...\")\n",
    "    embeddings = np.array(df[col_name].to_list())\n",
    "    labels = [0] * len(embeddings)\n",
    "    x = cosine_similarity(embeddings, embeddings)\n",
    "    similarity_matrix = x > similarity_threshold\n",
    "    graph = nx.from_numpy_array(similarity_matrix)\n",
    "    communities = nx.algorithms.community.louvain_communities(graph, resolution=0.1)\n",
    "    for community in communities:\n",
    "        initial_member = min(community)\n",
    "        for member in community:\n",
    "            labels[member] = initial_member\n",
    "\n",
    "    df['Cluster'] = pd.Series(labels)\n",
    "    print(\"Clustered\")\n",
    "    return df"
   ],
   "outputs": [],
   "execution_count": null
  },
  {
   "cell_type": "markdown",
   "id": "f16e4f6b1de849d7",
   "metadata": {},
   "source": [
    "Izračunam cluster"
   ]
  },
  {
   "cell_type": "code",
   "id": "83ee33babd020ac3",
   "metadata": {
    "jupyter": {
     "is_executing": true
    }
   },
   "source": [
    "data = cluster_louvain(data, 'Embedding', 0.92)  # <- similarity_threshold\n",
    "data = data.drop(columns=['Embedding'])  # remove the vectors from data - we don't need them anymore\n",
    "data[['Article ID', 'Datum', 'Medij', 'Cluster', 'Tekst']].head(100)"
   ],
   "outputs": [],
   "execution_count": null
  }
 ],
 "metadata": {
  "kernelspec": {
   "display_name": "Python 3 (ipykernel)",
   "language": "python",
   "name": "python3"
  },
  "language_info": {
   "codemirror_mode": {
    "name": "ipython",
    "version": 3
   },
   "file_extension": ".py",
   "mimetype": "text/x-python",
   "name": "python",
   "nbconvert_exporter": "python",
   "pygments_lexer": "ipython3",
   "version": "3.12.3"
  }
 },
 "nbformat": 4,
 "nbformat_minor": 5
}

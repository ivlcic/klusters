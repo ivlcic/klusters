{
 "cells": [
  {
   "metadata": {},
   "cell_type": "markdown",
   "source": [
    "# Textonic API\n",
    "Če imaš težave z računanjem vektorjev; Funkcije za vektorizacijo z Textonic API.   \n",
    "Spet kličem vektorizacijo na stolpcu 'Text' in dobim stolpec z vektorjem 'Embedding'"
   ],
   "id": "425c3fc768efd624"
  },
  {
   "metadata": {},
   "cell_type": "code",
   "source": "!pip install pandas numpy networkx numpy scikit-learn",
   "id": "e69945a078bfcd2a",
   "outputs": [],
   "execution_count": null
  },
  {
   "metadata": {},
   "cell_type": "code",
   "source": [
    "import os\n",
    "import pandas as pd\n",
    "\n",
    "excel_path = os.path.join('..', 'data', 'Reworkan data.xlsx')\n",
    "data = pd.read_excel(excel_path)\n",
    "    \n",
    "data.head()"
   ],
   "id": "912cef934ed4f337",
   "outputs": [],
   "execution_count": null
  },
  {
   "metadata": {},
   "cell_type": "markdown",
   "source": "V realnosti pazi na okoljske spremenljivke",
   "id": "2fd564bff7f8985f"
  },
  {
   "metadata": {},
   "cell_type": "code",
   "source": "print(f'TTNX_API_KEY is set: {len(os.getenv(\"TTNX_API_KEY\"))}')",
   "id": "73da9fc339387bbd",
   "outputs": [],
   "execution_count": null
  },
  {
   "metadata": {},
   "cell_type": "markdown",
   "source": "Definiram Textonic API funkcije za vektorizacijo:",
   "id": "4d5b9298a087561d"
  },
  {
   "metadata": {},
   "cell_type": "code",
   "source": [
    "import uuid\n",
    "import numpy as np\n",
    "from ttnx.api import call_textonic\n",
    "\n",
    "\n",
    "def ttnx_embed(df: pd.DataFrame, col_name: str = 'Tekst', target_col_name: str = 'Embedding'):\n",
    "    # Split the DataFrame into batches of 200 rows\n",
    "    batch_size = 200\n",
    "    num_batches = (len(df) + batch_size - 1) // batch_size\n",
    "    id_column = 'Article ID'\n",
    "    \n",
    "    selected_columns = [id_column, col_name]\n",
    "    responses = pd.DataFrame()\n",
    "    for i in range(num_batches):\n",
    "        start_idx = i * batch_size\n",
    "        end_idx = (i + 1) * batch_size\n",
    "        \n",
    "        batch = df.iloc[start_idx:end_idx]\n",
    "        request = {\n",
    "            'requestId': str(uuid.uuid4()),\n",
    "            'process': {\n",
    "                'analysis': {\n",
    "                    'steps': [\n",
    "                        {\n",
    "                            'step': 'doc_embed',\n",
    "                            'engine': 'e5',\n",
    "                            'model': 'multilingual-e5-base',\n",
    "                            'attributes': [\n",
    "                                {'named_sentence_filters': 'kl_transcript'}\n",
    "                            ]\n",
    "                        }\n",
    "                    ]\n",
    "                }\n",
    "            },\n",
    "            'documents': []\n",
    "        }\n",
    "        \n",
    "        already_added_ids = set() \n",
    "        # Iterate over DataFrame rows and use selected columns and neglect duplicates\n",
    "        for index, row in batch.iterrows():\n",
    "            a = row[selected_columns].to_dict()\n",
    "            if id_column not in a or not a[id_column]:\n",
    "                continue\n",
    "            if a[id_column] in already_added_ids:\n",
    "                continue\n",
    "            already_added_ids.add(a[id_column])\n",
    "            if col_name not in a:\n",
    "                continue\n",
    "            if isinstance(a[col_name], float):\n",
    "                body_text = str(a[col_name])\n",
    "            else:\n",
    "                body_text = a[col_name].strip()\n",
    "            if not body_text:\n",
    "                continue\n",
    "            \n",
    "            document = {\n",
    "                'id': a[id_column],\n",
    "                'title': a[id_column],\n",
    "                'lang': 'sl',\n",
    "                'sections': [\n",
    "                    {\n",
    "                        'outline': 'body',\n",
    "                        'data': body_text\n",
    "                    }\n",
    "                ]\n",
    "            }\n",
    "            #if a[id_column] == '974bfe2d-d56b-11ed-9246-2b5ebef623ad':\n",
    "            #    print(f\"[{document}]\")\n",
    "            #    continue\n",
    "            request['documents'].append(document)\n",
    "        if not request['documents']:\n",
    "            continue\n",
    "        resp_obj = call_textonic('/api/public/ml/process', request)\n",
    "        \n",
    "        result = {\n",
    "            id_column: [],\n",
    "            target_col_name: []\n",
    "        }\n",
    "        \n",
    "        for res_item in resp_obj['data']:\n",
    "            for res in res_item['result']:\n",
    "                if 'c' in res and 'v' in res and 'doc_embed' in res['c']:\n",
    "                    vect = np.array(res['v'])\n",
    "                    result[id_column].append(res_item['id'])\n",
    "                    result[target_col_name].append(vect)\n",
    "                    \n",
    "        print(f'Requested/received/valid vector : {len(batch)}/{len(resp_obj[\"data\"])}/{len(result[target_col_name])}')\n",
    "        # Convert the collected responses to a DataFrame\n",
    "        response_df = pd.DataFrame(result)\n",
    "        responses = pd.concat([responses, response_df])\n",
    "    \n",
    "    orig_len = len(df)\n",
    "    df = pd.merge(df, responses, on=id_column, how='left').dropna(subset=[target_col_name])\n",
    "    print(f'Requested/Successful {orig_len}/{len(df)}')\n",
    "    return df"
   ],
   "id": "bd7c38cbe1b4bcbc",
   "outputs": [],
   "execution_count": null
  },
  {
   "metadata": {},
   "cell_type": "markdown",
   "source": "Remote call to compute Textonic embeddings za 200 člankov na enkrat:",
   "id": "b13294d5a925508f"
  },
  {
   "metadata": {},
   "cell_type": "code",
   "source": [
    "data = ttnx_embed(data, 'Tekst', 'Embedding')\n",
    "data[['Article ID', 'Datum', 'Medij', 'Tekst', 'Embedding']].head(200)"
   ],
   "id": "ae3cdef2154bf6da",
   "outputs": [],
   "execution_count": null
  },
  {
   "metadata": {},
   "cell_type": "markdown",
   "source": "Funkcija za clusterizacijo",
   "id": "cb73fcea028f9897"
  },
  {
   "metadata": {},
   "cell_type": "code",
   "source": [
    "import networkx as nx\n",
    "from sklearn.metrics.pairwise import cosine_similarity\n",
    "\n",
    "def cluster_louvain(df: pd.DataFrame, col_name: str = 'Embedding', similarity_threshold: float = 0.96):\n",
    "    print(\"Clustering ...\")\n",
    "    embeddings = np.array(df[col_name].to_list())\n",
    "    labels = [0] * len(embeddings)\n",
    "    x = cosine_similarity(embeddings, embeddings)\n",
    "    similarity_matrix = x > similarity_threshold\n",
    "    graph = nx.from_numpy_array(similarity_matrix)\n",
    "    communities = nx.algorithms.community.louvain_communities(graph, resolution=0.1)\n",
    "    for community in communities:\n",
    "        initial_member = min(community)\n",
    "        for member in community:\n",
    "            labels[member] = initial_member\n",
    "\n",
    "    df['Cluster'] = pd.Series(labels)\n",
    "    print(\"Clustered\")\n",
    "    return df"
   ],
   "id": "db63eeba83b8a3cc",
   "outputs": [],
   "execution_count": null
  },
  {
   "metadata": {},
   "cell_type": "markdown",
   "source": "Zračunam clustering",
   "id": "fc4699d57570fb0a"
  },
  {
   "metadata": {},
   "cell_type": "code",
   "source": [
    "data = cluster_louvain(data, 'Embedding', 0.96)  # <- similarity_threshold\n",
    "data = data.drop(columns=['Embedding'])  # remove the vectors from data we don't need them anymore\n",
    "data[['Article ID', 'Datum', 'Medij', 'Cluster', 'Tekst']].head(100)"
   ],
   "id": "58ae986a7706b9eb",
   "outputs": [],
   "execution_count": null
  }
 ],
 "metadata": {
  "kernelspec": {
   "display_name": "Python 3",
   "language": "python",
   "name": "python3"
  },
  "language_info": {
   "codemirror_mode": {
    "name": "ipython",
    "version": 2
   },
   "file_extension": ".py",
   "mimetype": "text/x-python",
   "name": "python",
   "nbconvert_exporter": "python",
   "pygments_lexer": "ipython2",
   "version": "2.7.6"
  }
 },
 "nbformat": 4,
 "nbformat_minor": 5
}

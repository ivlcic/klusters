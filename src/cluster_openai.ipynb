{
 "cells": [
  {
   "metadata": {},
   "cell_type": "markdown",
   "source": [
    "# OpenAI API\n",
    "Če imaš težave z računanjem vektorjev; Funkcije za vektorizacijo z OpenAI API.   \n",
    "Spet kličem vektorizacijo na stolpcu 'Text' in dobim stolpec z vektorjem 'Embedding'"
   ],
   "id": "425c3fc768efd624"
  },
  {
   "metadata": {},
   "cell_type": "code",
   "source": "!pip install pandas numpy tiktoken openai networkx numpy scikit-learn",
   "id": "e69945a078bfcd2a",
   "outputs": [],
   "execution_count": null
  },
  {
   "metadata": {},
   "cell_type": "code",
   "source": [
    "import os\n",
    "import pandas as pd\n",
    "\n",
    "excel_path = os.path.join('..', 'data', 'Reworkan data.xlsx')  # Za primer sem dal krajši file\n",
    "data = pd.read_excel(excel_path)\n",
    "data.head()"
   ],
   "id": "912cef934ed4f337",
   "outputs": [],
   "execution_count": null
  },
  {
   "metadata": {},
   "cell_type": "markdown",
   "source": "Pazi na okoljske spremenljivke:",
   "id": "2fd564bff7f8985f"
  },
  {
   "metadata": {},
   "cell_type": "code",
   "source": [
    "print(os.getenv('OPENAI_API_KEY'))\n",
    "print(os.getenv('OPENAI_ORG_ID'))"
   ],
   "id": "73da9fc339387bbd",
   "outputs": [],
   "execution_count": null
  },
  {
   "metadata": {},
   "cell_type": "markdown",
   "source": "Definiram OpenAI API funkcije za vektorizacijo:",
   "id": "4d5b9298a087561d"
  },
  {
   "metadata": {},
   "cell_type": "code",
   "source": [
    "import tiktoken\n",
    "import openai\n",
    "\n",
    "def openai_embed(df: pd.DataFrame, col_name: str, target_col_name: str = 'Embedding'):\n",
    "    def _oai_embed(text, encoding):\n",
    "        tokens = encoding.encode(text)[:8191]\n",
    "        embedding = openai.embeddings.create(  # call OpenAI\n",
    "            input=tokens, model=\"text-embedding-ada-002\"\n",
    "        )\n",
    "        return embedding.data[0].embedding\n",
    "    \n",
    "    encoding = tiktoken.get_encoding('cl100k_base')\n",
    "    df[target_col_name] = df[col_name].apply(_oai_embed, encoding=encoding)\n",
    "    return data"
   ],
   "id": "bd7c38cbe1b4bcbc",
   "outputs": [],
   "execution_count": null
  },
  {
   "metadata": {},
   "cell_type": "markdown",
   "source": "Kličem OpenAI API, da dobim embeddinge (vsak članek posebej zato traja):",
   "id": "b13294d5a925508f"
  },
  {
   "metadata": {},
   "cell_type": "code",
   "source": [
    "data = openai_embed(data, 'Tekst', 'Embedding')\n",
    "data[['Article ID', 'Datum', 'Medij', 'Tekst', 'Embedding']].head(100)"
   ],
   "id": "ae3cdef2154bf6da",
   "outputs": [],
   "execution_count": null
  },
  {
   "metadata": {},
   "cell_type": "markdown",
   "source": "Funkcija za clusterizacijo",
   "id": "cb73fcea028f9897"
  },
  {
   "metadata": {},
   "cell_type": "code",
   "source": [
    "import networkx as nx\n",
    "import numpy as np\n",
    "\n",
    "from sklearn.metrics.pairwise import cosine_similarity\n",
    "# Assuming your data variable is a DataFrame that you have already prepared\n",
    "# Continuing from the last step of the previous script\n",
    "\n",
    "def cluster_louvain(df: pd.DataFrame, col_name: str = 'Embedding', similarity_threshold: float = 0.96):\n",
    "    print(\"Clustering ...\")\n",
    "    embeddings = np.array(df[col_name].to_list())\n",
    "    labels = [0] * len(embeddings)\n",
    "    x = cosine_similarity(embeddings, embeddings)\n",
    "    similarity_matrix = x > similarity_threshold\n",
    "    graph = nx.from_numpy_array(similarity_matrix)\n",
    "    communities = nx.algorithms.community.louvain_communities(graph, resolution=0.1)\n",
    "    for community in communities:\n",
    "        initial_member = min(community)\n",
    "        for member in community:\n",
    "            labels[member] = initial_member\n",
    "\n",
    "    df['Cluster'] = pd.Series(labels)\n",
    "    print(\"Clustered\")\n",
    "    return df"
   ],
   "id": "db63eeba83b8a3cc",
   "outputs": [],
   "execution_count": null
  },
  {
   "metadata": {},
   "cell_type": "markdown",
   "source": "Zračunam clustering",
   "id": "fc4699d57570fb0a"
  },
  {
   "metadata": {},
   "cell_type": "code",
   "source": [
    "data = cluster_louvain(data, 'Embedding', 0.96)  # <- similarity_threshold\n",
    "data = data.drop(columns=['Embedding'])  # remove the vectors from data we don't need them anymore\n",
    "data[['Article ID', 'Datum', 'Medij', 'Cluster', 'Tekst']].head(100)"
   ],
   "id": "58ae986a7706b9eb",
   "outputs": [],
   "execution_count": null
  }
 ],
 "metadata": {
  "kernelspec": {
   "display_name": "Python 3",
   "language": "python",
   "name": "python3"
  },
  "language_info": {
   "codemirror_mode": {
    "name": "ipython",
    "version": 2
   },
   "file_extension": ".py",
   "mimetype": "text/x-python",
   "name": "python",
   "nbconvert_exporter": "python",
   "pygments_lexer": "ipython2",
   "version": "2.7.6"
  }
 },
 "nbformat": 4,
 "nbformat_minor": 5
}
